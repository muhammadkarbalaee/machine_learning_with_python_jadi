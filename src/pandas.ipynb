{
 "cells": [
  {
   "cell_type": "markdown",
   "source": [
    "# Pandas"
   ],
   "metadata": {
    "collapsed": false,
    "pycharm": {
     "name": "#%% md\n"
    }
   }
  },
  {
   "cell_type": "code",
   "execution_count": 51,
   "outputs": [],
   "source": [
    "import pandas as pd\n",
    "import numpy as np"
   ],
   "metadata": {
    "collapsed": false,
    "pycharm": {
     "name": "#%%\n"
    }
   }
  },
  {
   "cell_type": "code",
   "execution_count": 52,
   "outputs": [
    {
     "data": {
      "text/plain": "0       1\n1       2\n2       3\n3    jadi\n4     NaN\ndtype: object"
     },
     "execution_count": 52,
     "metadata": {},
     "output_type": "execute_result"
    }
   ],
   "source": [
    "pd.Series([1 , 2, 3, 'jadi', np.nan])"
   ],
   "metadata": {
    "collapsed": false,
    "pycharm": {
     "name": "#%%\n"
    }
   }
  },
  {
   "cell_type": "code",
   "execution_count": 53,
   "outputs": [
    {
     "data": {
      "text/plain": "DatetimeIndex(['2020-01-01', '2020-01-02', '2020-01-03', '2020-01-04',\n               '2020-01-05', '2020-01-06'],\n              dtype='datetime64[ns]', freq='D')"
     },
     "execution_count": 53,
     "metadata": {},
     "output_type": "execute_result"
    }
   ],
   "source": [
    "dates = pd.date_range(\"20200101\", periods=6)\n",
    "dates"
   ],
   "metadata": {
    "collapsed": false,
    "pycharm": {
     "name": "#%%\n"
    }
   }
  },
  {
   "cell_type": "code",
   "execution_count": 54,
   "outputs": [],
   "source": [
    "a = np.random.randn(6, 4)"
   ],
   "metadata": {
    "collapsed": false,
    "pycharm": {
     "name": "#%%\n"
    }
   }
  },
  {
   "cell_type": "code",
   "execution_count": 55,
   "outputs": [
    {
     "data": {
      "text/plain": "                   A         B         C         D\n2020-01-01  0.920283  0.416285 -0.384349 -0.547963\n2020-01-02  1.124501 -0.624050  0.426581 -0.282562\n2020-01-03  0.805025 -0.799173 -2.254307 -1.670628\n2020-01-04  0.658279  0.571416 -0.216902 -0.392707\n2020-01-05  0.714448 -0.660495  1.874767 -1.177112\n2020-01-06 -0.096510 -0.653030  1.097379 -0.159280",
      "text/html": "<div>\n<style scoped>\n    .dataframe tbody tr th:only-of-type {\n        vertical-align: middle;\n    }\n\n    .dataframe tbody tr th {\n        vertical-align: top;\n    }\n\n    .dataframe thead th {\n        text-align: right;\n    }\n</style>\n<table border=\"1\" class=\"dataframe\">\n  <thead>\n    <tr style=\"text-align: right;\">\n      <th></th>\n      <th>A</th>\n      <th>B</th>\n      <th>C</th>\n      <th>D</th>\n    </tr>\n  </thead>\n  <tbody>\n    <tr>\n      <th>2020-01-01</th>\n      <td>0.920283</td>\n      <td>0.416285</td>\n      <td>-0.384349</td>\n      <td>-0.547963</td>\n    </tr>\n    <tr>\n      <th>2020-01-02</th>\n      <td>1.124501</td>\n      <td>-0.624050</td>\n      <td>0.426581</td>\n      <td>-0.282562</td>\n    </tr>\n    <tr>\n      <th>2020-01-03</th>\n      <td>0.805025</td>\n      <td>-0.799173</td>\n      <td>-2.254307</td>\n      <td>-1.670628</td>\n    </tr>\n    <tr>\n      <th>2020-01-04</th>\n      <td>0.658279</td>\n      <td>0.571416</td>\n      <td>-0.216902</td>\n      <td>-0.392707</td>\n    </tr>\n    <tr>\n      <th>2020-01-05</th>\n      <td>0.714448</td>\n      <td>-0.660495</td>\n      <td>1.874767</td>\n      <td>-1.177112</td>\n    </tr>\n    <tr>\n      <th>2020-01-06</th>\n      <td>-0.096510</td>\n      <td>-0.653030</td>\n      <td>1.097379</td>\n      <td>-0.159280</td>\n    </tr>\n  </tbody>\n</table>\n</div>"
     },
     "execution_count": 55,
     "metadata": {},
     "output_type": "execute_result"
    }
   ],
   "source": [
    "df = pd.DataFrame(a, index=dates, columns=['A', 'B', 'C', 'D'])\n",
    "df"
   ],
   "metadata": {
    "collapsed": false,
    "pycharm": {
     "name": "#%%\n"
    }
   }
  },
  {
   "cell_type": "code",
   "execution_count": 56,
   "outputs": [
    {
     "data": {
      "text/plain": "A    float64\nB    float64\nC    float64\nD    float64\ndtype: object"
     },
     "execution_count": 56,
     "metadata": {},
     "output_type": "execute_result"
    }
   ],
   "source": [
    "df.dtypes"
   ],
   "metadata": {
    "collapsed": false,
    "pycharm": {
     "name": "#%%\n"
    }
   }
  },
  {
   "cell_type": "code",
   "execution_count": 57,
   "outputs": [
    {
     "data": {
      "text/plain": "2020-01-01    0.920283\n2020-01-02    1.124501\n2020-01-03    0.805025\n2020-01-04    0.658279\n2020-01-05    0.714448\n2020-01-06   -0.096510\nFreq: D, Name: A, dtype: float64"
     },
     "execution_count": 57,
     "metadata": {},
     "output_type": "execute_result"
    }
   ],
   "source": [
    "df[\"A\"]"
   ],
   "metadata": {
    "collapsed": false,
    "pycharm": {
     "name": "#%%\n"
    }
   }
  },
  {
   "cell_type": "code",
   "execution_count": 58,
   "outputs": [
    {
     "data": {
      "text/plain": "                   A         B         C         D\n2020-01-01  0.920283  0.416285 -0.384349 -0.547963\n2020-01-02  1.124501 -0.624050  0.426581 -0.282562",
      "text/html": "<div>\n<style scoped>\n    .dataframe tbody tr th:only-of-type {\n        vertical-align: middle;\n    }\n\n    .dataframe tbody tr th {\n        vertical-align: top;\n    }\n\n    .dataframe thead th {\n        text-align: right;\n    }\n</style>\n<table border=\"1\" class=\"dataframe\">\n  <thead>\n    <tr style=\"text-align: right;\">\n      <th></th>\n      <th>A</th>\n      <th>B</th>\n      <th>C</th>\n      <th>D</th>\n    </tr>\n  </thead>\n  <tbody>\n    <tr>\n      <th>2020-01-01</th>\n      <td>0.920283</td>\n      <td>0.416285</td>\n      <td>-0.384349</td>\n      <td>-0.547963</td>\n    </tr>\n    <tr>\n      <th>2020-01-02</th>\n      <td>1.124501</td>\n      <td>-0.624050</td>\n      <td>0.426581</td>\n      <td>-0.282562</td>\n    </tr>\n  </tbody>\n</table>\n</div>"
     },
     "execution_count": 58,
     "metadata": {},
     "output_type": "execute_result"
    }
   ],
   "source": [
    "df.head(2)"
   ],
   "metadata": {
    "collapsed": false,
    "pycharm": {
     "name": "#%%\n"
    }
   }
  },
  {
   "cell_type": "code",
   "execution_count": 59,
   "outputs": [
    {
     "data": {
      "text/plain": "                   A         B         C         D\n2020-01-04  0.658279  0.571416 -0.216902 -0.392707\n2020-01-05  0.714448 -0.660495  1.874767 -1.177112\n2020-01-06 -0.096510 -0.653030  1.097379 -0.159280",
      "text/html": "<div>\n<style scoped>\n    .dataframe tbody tr th:only-of-type {\n        vertical-align: middle;\n    }\n\n    .dataframe tbody tr th {\n        vertical-align: top;\n    }\n\n    .dataframe thead th {\n        text-align: right;\n    }\n</style>\n<table border=\"1\" class=\"dataframe\">\n  <thead>\n    <tr style=\"text-align: right;\">\n      <th></th>\n      <th>A</th>\n      <th>B</th>\n      <th>C</th>\n      <th>D</th>\n    </tr>\n  </thead>\n  <tbody>\n    <tr>\n      <th>2020-01-04</th>\n      <td>0.658279</td>\n      <td>0.571416</td>\n      <td>-0.216902</td>\n      <td>-0.392707</td>\n    </tr>\n    <tr>\n      <th>2020-01-05</th>\n      <td>0.714448</td>\n      <td>-0.660495</td>\n      <td>1.874767</td>\n      <td>-1.177112</td>\n    </tr>\n    <tr>\n      <th>2020-01-06</th>\n      <td>-0.096510</td>\n      <td>-0.653030</td>\n      <td>1.097379</td>\n      <td>-0.159280</td>\n    </tr>\n  </tbody>\n</table>\n</div>"
     },
     "execution_count": 59,
     "metadata": {},
     "output_type": "execute_result"
    }
   ],
   "source": [
    "df.tail(3)"
   ],
   "metadata": {
    "collapsed": false,
    "pycharm": {
     "name": "#%%\n"
    }
   }
  },
  {
   "cell_type": "code",
   "execution_count": 60,
   "outputs": [
    {
     "data": {
      "text/plain": "              A         B         C         D\ncount  6.000000  6.000000  6.000000  6.000000\nmean   0.687671 -0.291508  0.090528 -0.705042\nstd    0.418383  0.613313  1.423268  0.592246\nmin   -0.096510 -0.799173 -2.254307 -1.670628\n25%    0.672321 -0.658629 -0.342487 -1.019824\n50%    0.759736 -0.638540  0.104840 -0.470335\n75%    0.891468  0.156201  0.929680 -0.310098\nmax    1.124501  0.571416  1.874767 -0.159280",
      "text/html": "<div>\n<style scoped>\n    .dataframe tbody tr th:only-of-type {\n        vertical-align: middle;\n    }\n\n    .dataframe tbody tr th {\n        vertical-align: top;\n    }\n\n    .dataframe thead th {\n        text-align: right;\n    }\n</style>\n<table border=\"1\" class=\"dataframe\">\n  <thead>\n    <tr style=\"text-align: right;\">\n      <th></th>\n      <th>A</th>\n      <th>B</th>\n      <th>C</th>\n      <th>D</th>\n    </tr>\n  </thead>\n  <tbody>\n    <tr>\n      <th>count</th>\n      <td>6.000000</td>\n      <td>6.000000</td>\n      <td>6.000000</td>\n      <td>6.000000</td>\n    </tr>\n    <tr>\n      <th>mean</th>\n      <td>0.687671</td>\n      <td>-0.291508</td>\n      <td>0.090528</td>\n      <td>-0.705042</td>\n    </tr>\n    <tr>\n      <th>std</th>\n      <td>0.418383</td>\n      <td>0.613313</td>\n      <td>1.423268</td>\n      <td>0.592246</td>\n    </tr>\n    <tr>\n      <th>min</th>\n      <td>-0.096510</td>\n      <td>-0.799173</td>\n      <td>-2.254307</td>\n      <td>-1.670628</td>\n    </tr>\n    <tr>\n      <th>25%</th>\n      <td>0.672321</td>\n      <td>-0.658629</td>\n      <td>-0.342487</td>\n      <td>-1.019824</td>\n    </tr>\n    <tr>\n      <th>50%</th>\n      <td>0.759736</td>\n      <td>-0.638540</td>\n      <td>0.104840</td>\n      <td>-0.470335</td>\n    </tr>\n    <tr>\n      <th>75%</th>\n      <td>0.891468</td>\n      <td>0.156201</td>\n      <td>0.929680</td>\n      <td>-0.310098</td>\n    </tr>\n    <tr>\n      <th>max</th>\n      <td>1.124501</td>\n      <td>0.571416</td>\n      <td>1.874767</td>\n      <td>-0.159280</td>\n    </tr>\n  </tbody>\n</table>\n</div>"
     },
     "execution_count": 60,
     "metadata": {},
     "output_type": "execute_result"
    }
   ],
   "source": [
    "df.describe()"
   ],
   "metadata": {
    "collapsed": false,
    "pycharm": {
     "name": "#%%\n"
    }
   }
  },
  {
   "cell_type": "code",
   "execution_count": 61,
   "outputs": [
    {
     "data": {
      "text/plain": "A    0.687671\nB   -0.291508\nC    0.090528\nD   -0.705042\ndtype: float64"
     },
     "execution_count": 61,
     "metadata": {},
     "output_type": "execute_result"
    }
   ],
   "source": [
    "df.mean()"
   ],
   "metadata": {
    "collapsed": false,
    "pycharm": {
     "name": "#%%\n"
    }
   }
  },
  {
   "cell_type": "code",
   "execution_count": 62,
   "outputs": [
    {
     "data": {
      "text/plain": "0.687670819113837"
     },
     "execution_count": 62,
     "metadata": {},
     "output_type": "execute_result"
    }
   ],
   "source": [
    "df[\"A\"].mean()"
   ],
   "metadata": {
    "collapsed": false,
    "pycharm": {
     "name": "#%%\n"
    }
   }
  },
  {
   "cell_type": "code",
   "execution_count": 63,
   "outputs": [
    {
     "data": {
      "text/plain": "                   A         B         C         D\n2020-01-01  0.920283  0.416285 -0.384349 -0.547963\n2020-01-02  1.124501 -0.624050  0.426581 -0.282562",
      "text/html": "<div>\n<style scoped>\n    .dataframe tbody tr th:only-of-type {\n        vertical-align: middle;\n    }\n\n    .dataframe tbody tr th {\n        vertical-align: top;\n    }\n\n    .dataframe thead th {\n        text-align: right;\n    }\n</style>\n<table border=\"1\" class=\"dataframe\">\n  <thead>\n    <tr style=\"text-align: right;\">\n      <th></th>\n      <th>A</th>\n      <th>B</th>\n      <th>C</th>\n      <th>D</th>\n    </tr>\n  </thead>\n  <tbody>\n    <tr>\n      <th>2020-01-01</th>\n      <td>0.920283</td>\n      <td>0.416285</td>\n      <td>-0.384349</td>\n      <td>-0.547963</td>\n    </tr>\n    <tr>\n      <th>2020-01-02</th>\n      <td>1.124501</td>\n      <td>-0.624050</td>\n      <td>0.426581</td>\n      <td>-0.282562</td>\n    </tr>\n  </tbody>\n</table>\n</div>"
     },
     "execution_count": 63,
     "metadata": {},
     "output_type": "execute_result"
    }
   ],
   "source": [
    "df[0:2]"
   ],
   "metadata": {
    "collapsed": false,
    "pycharm": {
     "name": "#%%\n"
    }
   }
  },
  {
   "cell_type": "code",
   "execution_count": 64,
   "outputs": [
    {
     "data": {
      "text/plain": "   2020-01-01  2020-01-02  2020-01-03  2020-01-04  2020-01-05  2020-01-06\nA    0.920283    1.124501    0.805025    0.658279    0.714448   -0.096510\nB    0.416285   -0.624050   -0.799173    0.571416   -0.660495   -0.653030\nC   -0.384349    0.426581   -2.254307   -0.216902    1.874767    1.097379\nD   -0.547963   -0.282562   -1.670628   -0.392707   -1.177112   -0.159280",
      "text/html": "<div>\n<style scoped>\n    .dataframe tbody tr th:only-of-type {\n        vertical-align: middle;\n    }\n\n    .dataframe tbody tr th {\n        vertical-align: top;\n    }\n\n    .dataframe thead th {\n        text-align: right;\n    }\n</style>\n<table border=\"1\" class=\"dataframe\">\n  <thead>\n    <tr style=\"text-align: right;\">\n      <th></th>\n      <th>2020-01-01</th>\n      <th>2020-01-02</th>\n      <th>2020-01-03</th>\n      <th>2020-01-04</th>\n      <th>2020-01-05</th>\n      <th>2020-01-06</th>\n    </tr>\n  </thead>\n  <tbody>\n    <tr>\n      <th>A</th>\n      <td>0.920283</td>\n      <td>1.124501</td>\n      <td>0.805025</td>\n      <td>0.658279</td>\n      <td>0.714448</td>\n      <td>-0.096510</td>\n    </tr>\n    <tr>\n      <th>B</th>\n      <td>0.416285</td>\n      <td>-0.624050</td>\n      <td>-0.799173</td>\n      <td>0.571416</td>\n      <td>-0.660495</td>\n      <td>-0.653030</td>\n    </tr>\n    <tr>\n      <th>C</th>\n      <td>-0.384349</td>\n      <td>0.426581</td>\n      <td>-2.254307</td>\n      <td>-0.216902</td>\n      <td>1.874767</td>\n      <td>1.097379</td>\n    </tr>\n    <tr>\n      <th>D</th>\n      <td>-0.547963</td>\n      <td>-0.282562</td>\n      <td>-1.670628</td>\n      <td>-0.392707</td>\n      <td>-1.177112</td>\n      <td>-0.159280</td>\n    </tr>\n  </tbody>\n</table>\n</div>"
     },
     "execution_count": 64,
     "metadata": {},
     "output_type": "execute_result"
    }
   ],
   "source": [
    "df.T"
   ],
   "metadata": {
    "collapsed": false,
    "pycharm": {
     "name": "#%%\n"
    }
   }
  },
  {
   "cell_type": "code",
   "execution_count": 65,
   "outputs": [
    {
     "data": {
      "text/plain": "                   A         B         C         D\n2020-01-03  0.805025 -0.799173 -2.254307 -1.670628\n2020-01-05  0.714448 -0.660495  1.874767 -1.177112\n2020-01-06 -0.096510 -0.653030  1.097379 -0.159280\n2020-01-02  1.124501 -0.624050  0.426581 -0.282562\n2020-01-01  0.920283  0.416285 -0.384349 -0.547963\n2020-01-04  0.658279  0.571416 -0.216902 -0.392707",
      "text/html": "<div>\n<style scoped>\n    .dataframe tbody tr th:only-of-type {\n        vertical-align: middle;\n    }\n\n    .dataframe tbody tr th {\n        vertical-align: top;\n    }\n\n    .dataframe thead th {\n        text-align: right;\n    }\n</style>\n<table border=\"1\" class=\"dataframe\">\n  <thead>\n    <tr style=\"text-align: right;\">\n      <th></th>\n      <th>A</th>\n      <th>B</th>\n      <th>C</th>\n      <th>D</th>\n    </tr>\n  </thead>\n  <tbody>\n    <tr>\n      <th>2020-01-03</th>\n      <td>0.805025</td>\n      <td>-0.799173</td>\n      <td>-2.254307</td>\n      <td>-1.670628</td>\n    </tr>\n    <tr>\n      <th>2020-01-05</th>\n      <td>0.714448</td>\n      <td>-0.660495</td>\n      <td>1.874767</td>\n      <td>-1.177112</td>\n    </tr>\n    <tr>\n      <th>2020-01-06</th>\n      <td>-0.096510</td>\n      <td>-0.653030</td>\n      <td>1.097379</td>\n      <td>-0.159280</td>\n    </tr>\n    <tr>\n      <th>2020-01-02</th>\n      <td>1.124501</td>\n      <td>-0.624050</td>\n      <td>0.426581</td>\n      <td>-0.282562</td>\n    </tr>\n    <tr>\n      <th>2020-01-01</th>\n      <td>0.920283</td>\n      <td>0.416285</td>\n      <td>-0.384349</td>\n      <td>-0.547963</td>\n    </tr>\n    <tr>\n      <th>2020-01-04</th>\n      <td>0.658279</td>\n      <td>0.571416</td>\n      <td>-0.216902</td>\n      <td>-0.392707</td>\n    </tr>\n  </tbody>\n</table>\n</div>"
     },
     "execution_count": 65,
     "metadata": {},
     "output_type": "execute_result"
    }
   ],
   "source": [
    "df.sort_values(by=\"B\")"
   ],
   "metadata": {
    "collapsed": false,
    "pycharm": {
     "name": "#%%\n"
    }
   }
  },
  {
   "cell_type": "code",
   "execution_count": 66,
   "outputs": [
    {
     "data": {
      "text/plain": "                   A         B         C         D\n2020-01-01  0.920283  0.416285 -0.384349 -0.547963\n2020-01-02  1.124501 -0.624050  0.426581 -0.282562\n2020-01-03  0.805025 -0.799173 -2.254307 -1.670628\n2020-01-04  0.658279  0.571416 -0.216902 -0.392707\n2020-01-05  0.714448 -0.660495  1.874767 -1.177112",
      "text/html": "<div>\n<style scoped>\n    .dataframe tbody tr th:only-of-type {\n        vertical-align: middle;\n    }\n\n    .dataframe tbody tr th {\n        vertical-align: top;\n    }\n\n    .dataframe thead th {\n        text-align: right;\n    }\n</style>\n<table border=\"1\" class=\"dataframe\">\n  <thead>\n    <tr style=\"text-align: right;\">\n      <th></th>\n      <th>A</th>\n      <th>B</th>\n      <th>C</th>\n      <th>D</th>\n    </tr>\n  </thead>\n  <tbody>\n    <tr>\n      <th>2020-01-01</th>\n      <td>0.920283</td>\n      <td>0.416285</td>\n      <td>-0.384349</td>\n      <td>-0.547963</td>\n    </tr>\n    <tr>\n      <th>2020-01-02</th>\n      <td>1.124501</td>\n      <td>-0.624050</td>\n      <td>0.426581</td>\n      <td>-0.282562</td>\n    </tr>\n    <tr>\n      <th>2020-01-03</th>\n      <td>0.805025</td>\n      <td>-0.799173</td>\n      <td>-2.254307</td>\n      <td>-1.670628</td>\n    </tr>\n    <tr>\n      <th>2020-01-04</th>\n      <td>0.658279</td>\n      <td>0.571416</td>\n      <td>-0.216902</td>\n      <td>-0.392707</td>\n    </tr>\n    <tr>\n      <th>2020-01-05</th>\n      <td>0.714448</td>\n      <td>-0.660495</td>\n      <td>1.874767</td>\n      <td>-1.177112</td>\n    </tr>\n  </tbody>\n</table>\n</div>"
     },
     "execution_count": 66,
     "metadata": {},
     "output_type": "execute_result"
    }
   ],
   "source": [
    "df[df[\"A\"] > 0]"
   ],
   "metadata": {
    "collapsed": false,
    "pycharm": {
     "name": "#%%\n"
    }
   }
  },
  {
   "cell_type": "markdown",
   "source": [
    "### Read and Write operations"
   ],
   "metadata": {
    "collapsed": false,
    "pycharm": {
     "name": "#%% md\n"
    }
   }
  },
  {
   "cell_type": "code",
   "execution_count": 67,
   "outputs": [],
   "source": [
    "# pd.read_csv(\"myfile.csv\")\n",
    "df.to_csv(\"mycsv.csv\")"
   ],
   "metadata": {
    "collapsed": false,
    "pycharm": {
     "name": "#%%\n"
    }
   }
  },
  {
   "cell_type": "code",
   "execution_count": 68,
   "outputs": [],
   "source": [
    "df.to_excel(\"myexcel.xlsx\")"
   ],
   "metadata": {
    "collapsed": false,
    "pycharm": {
     "name": "#%%\n"
    }
   }
  },
  {
   "cell_type": "code",
   "execution_count": 68,
   "outputs": [],
   "source": [],
   "metadata": {
    "collapsed": false,
    "pycharm": {
     "name": "#%%\n"
    }
   }
  }
 ],
 "metadata": {
  "kernelspec": {
   "display_name": "Python 3",
   "language": "python",
   "name": "python3"
  },
  "language_info": {
   "codemirror_mode": {
    "name": "ipython",
    "version": 2
   },
   "file_extension": ".py",
   "mimetype": "text/x-python",
   "name": "python",
   "nbconvert_exporter": "python",
   "pygments_lexer": "ipython2",
   "version": "2.7.6"
  }
 },
 "nbformat": 4,
 "nbformat_minor": 0
}